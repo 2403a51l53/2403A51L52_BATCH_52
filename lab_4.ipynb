{
  "nbformat": 4,
  "nbformat_minor": 0,
  "metadata": {
    "colab": {
      "provenance": [],
      "authorship_tag": "ABX9TyO4Oh3PKyWvGzIGqB3q5E0t",
      "include_colab_link": true
    },
    "kernelspec": {
      "name": "python3",
      "display_name": "Python 3"
    },
    "language_info": {
      "name": "python"
    }
  },
  "cells": [
    {
      "cell_type": "markdown",
      "metadata": {
        "id": "view-in-github",
        "colab_type": "text"
      },
      "source": [
        "<a href=\"https://colab.research.google.com/github/2403a51l53/2403A51L53_BATCH_52/blob/main/lab_4.ipynb\" target=\"_parent\"><img src=\"https://colab.research.google.com/assets/colab-badge.svg\" alt=\"Open In Colab\"/></a>"
      ]
    },
    {
      "cell_type": "code",
      "execution_count": 1,
      "metadata": {
        "id": "qcHIFI9PjmEd",
        "outputId": "a9a20c14-fd1e-430c-f2d6-153a717db3d0",
        "colab": {
          "base_uri": "https://localhost:8080/"
        }
      },
      "outputs": [
        {
          "output_type": "stream",
          "name": "stdout",
          "text": [
            "   Student_ID  Name   Math  Science  English\n",
            "0           1  Amit  80.00     78.0     82.0\n",
            "2           3  John  81.75     88.0     79.0\n",
            "3           4  Lina  90.00     92.0     82.0\n",
            "4           5   Raj  85.00     81.0     91.0\n"
          ]
        }
      ],
      "source": [
        "#Question 1\n",
        "import pandas as pd\n",
        "import numpy as np\n",
        "\n",
        "data = {\n",
        "    \"Student_ID\": [1, 2, 3, 4, 5],\n",
        "    \"Name\": [\"Amit\", \"Sara\", \"John\", \"Lina\", \"Raj\"],\n",
        "    \"Math\": [80, 72, np.nan, 90, 85],\n",
        "    \"Science\": [78, np.nan, 88, 92, 81],\n",
        "    \"English\": [82, 76, 79, np.nan, 91]\n",
        "}\n",
        "\n",
        "df = pd.DataFrame(data)\n",
        "df.fillna(df.mean(numeric_only=True), inplace=True)\n",
        "high_achievers = df[(df['Math'] > 75) & (df['Science'] > 75) & (df['English'] > 75)]\n",
        "print(high_achievers)"
      ]
    }
  ]
}