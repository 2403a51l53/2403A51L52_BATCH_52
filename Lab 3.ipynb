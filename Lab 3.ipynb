{
  "nbformat": 4,
  "nbformat_minor": 0,
  "metadata": {
    "colab": {
      "provenance": [],
      "authorship_tag": "ABX9TyMyY8B0FkGCBhw5xzQKJ6Rt",
      "include_colab_link": true
    },
    "kernelspec": {
      "name": "python3",
      "display_name": "Python 3"
    },
    "language_info": {
      "name": "python"
    }
  },
  "cells": [
    {
      "cell_type": "markdown",
      "metadata": {
        "id": "view-in-github",
        "colab_type": "text"
      },
      "source": [
        "<a href=\"https://colab.research.google.com/github/2403a51l53/2403A51L53_BATCH_52/blob/main/Lab%203.ipynb\" target=\"_parent\"><img src=\"https://colab.research.google.com/assets/colab-badge.svg\" alt=\"Open In Colab\"/></a>"
      ]
    },
    {
      "cell_type": "code",
      "execution_count": 2,
      "metadata": {
        "colab": {
          "base_uri": "https://localhost:8080/"
        },
        "id": "x-PuSHHTi51w",
        "outputId": "5f87e1eb-bbcd-46da-f9e1-638f4596f6f4"
      },
      "outputs": [
        {
          "output_type": "stream",
          "name": "stdout",
          "text": [
            "Matrix A:\n",
            " [[ 9  2 10]\n",
            " [ 7  6  9]\n",
            " [ 4  4  2]]\n",
            "\n",
            "Matrix B:\n",
            " [[ 2  2  5]\n",
            " [ 9  2 10]\n",
            " [10 10  1]]\n",
            "\n",
            "A + B:\n",
            " [[11  4 15]\n",
            " [16  8 19]\n",
            " [14 14  3]]\n",
            "\n",
            "A - B:\n",
            " [[ 7  0  5]\n",
            " [-2  4 -1]\n",
            " [-6 -6  1]]\n",
            "\n",
            "Verification for element [0,0]:\n",
            "A[0,0] = 9, B[0,0] = 2\n",
            "Addition: 9 + 2 = 11\n",
            "Subtraction: 9 - 2 = 7\n",
            "\n",
            "Note: Broadcasting is not used here since both matrices are of the same shape (3x3).\n"
          ]
        }
      ],
      "source": [
        "# Question 1\n",
        "import numpy as np\n",
        "\n",
        "A = np.random.randint(1, 11, size=(3, 3))\n",
        "B = np.random.randint(1, 11, size=(3, 3))\n",
        "\n",
        "add_result = np.add(A, B)\n",
        "sub_result = np.subtract(A, B)\n",
        "\n",
        "print(\"Matrix A:\\n\", A)\n",
        "print(\"\\nMatrix B:\\n\", B)\n",
        "print(\"\\nA + B:\\n\", add_result)\n",
        "print(\"\\nA - B:\\n\", sub_result)\n",
        "\n",
        "print(\"\\nVerification for element [0,0]:\")\n",
        "print(f\"A[0,0] = {A[0,0]}, B[0,0] = {B[0,0]}\")\n",
        "print(f\"Addition: {A[0,0]} + {B[0,0]} = {add_result[0,0]}\")\n",
        "print(f\"Subtraction: {A[0,0]} - {B[0,0]} = {sub_result[0,0]}\")\n",
        "\n",
        "print(\"\\nNote: Broadcasting is not used here since both matrices are of the same shape (3x3).\")"
      ]
    }
  ]
}