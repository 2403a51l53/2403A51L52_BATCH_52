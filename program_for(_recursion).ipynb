{
  "nbformat": 4,
  "nbformat_minor": 0,
  "metadata": {
    "colab": {
      "provenance": [],
      "authorship_tag": "ABX9TyOaZBMEi4cm8ExgxzlhPQwc",
      "include_colab_link": true
    },
    "kernelspec": {
      "name": "python3",
      "display_name": "Python 3"
    },
    "language_info": {
      "name": "python"
    }
  },
  "cells": [
    {
      "cell_type": "markdown",
      "metadata": {
        "id": "view-in-github",
        "colab_type": "text"
      },
      "source": [
        "<a href=\"https://colab.research.google.com/github/2403a51l53/2403A51L52_BATCH_52/blob/main/program_for(_recursion).ipynb\" target=\"_parent\"><img src=\"https://colab.research.google.com/assets/colab-badge.svg\" alt=\"Open In Colab\"/></a>"
      ]
    },
    {
      "cell_type": "code",
      "source": [
        "def factorial(n):\n",
        " if n==0 or n==1:\n",
        "  return 1\n",
        " else:\n",
        "  return n*factorial(n-1)"
      ],
      "metadata": {
        "id": "V1lRZGeIYInG"
      },
      "execution_count": null,
      "outputs": []
    },
    {
      "cell_type": "code",
      "source": [
        "number=int(input(\"Enter a number:\"))"
      ],
      "metadata": {
        "id": "yZQA70kWYoCr"
      },
      "execution_count": null,
      "outputs": []
    },
    {
      "cell_type": "code",
      "source": [
        "if number<0:\n",
        "    print(\"Factorial is not defined for negative numbers\")\n",
        " else:\n",
        "    result=factorial(number)\n",
        "    print(f\"The factorial of {number} is {result}\")"
      ],
      "metadata": {
        "id": "9eGBBuI1YsL-"
      },
      "execution_count": null,
      "outputs": []
    }
  ]
}