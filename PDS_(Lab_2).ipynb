{
  "nbformat": 4,
  "nbformat_minor": 0,
  "metadata": {
    "colab": {
      "provenance": [],
      "authorship_tag": "ABX9TyNpxgGBuKLDxd/Dy7ek2Gw/",
      "include_colab_link": true
    },
    "kernelspec": {
      "name": "python3",
      "display_name": "Python 3"
    },
    "language_info": {
      "name": "python"
    }
  },
  "cells": [
    {
      "cell_type": "markdown",
      "metadata": {
        "id": "view-in-github",
        "colab_type": "text"
      },
      "source": [
        "<a href=\"https://colab.research.google.com/github/2403a51l53/2403A51L52_BATCH_52/blob/main/PDS_(Lab_2).ipynb\" target=\"_parent\"><img src=\"https://colab.research.google.com/assets/colab-badge.svg\" alt=\"Open In Colab\"/></a>"
      ]
    },
    {
      "cell_type": "code",
      "execution_count": 1,
      "metadata": {
        "id": "Ay2x6HtDZyT4",
        "colab": {
          "base_uri": "https://localhost:8080/"
        },
        "outputId": "061604ee-5fd3-4249-98c0-1114bc061cf3"
      },
      "outputs": [
        {
          "output_type": "stream",
          "name": "stdout",
          "text": [
            "\n",
            "Initial DataFrame:\n",
            "   Order ID     Product  Quantity  Price\n",
            "0       201  Smartphone         3  25000\n",
            "1       202     Earbuds        12   1500\n",
            "2       203      Tablet         4  18000\n",
            "3       204  Smartwatch         6   8000\n",
            "4       205  Smartphone         2  25000\n",
            "5       206     Earbuds        18   1500\n",
            "6       207  Smartwatch         5   8000\n",
            "\n",
            "DataFrame with Total Sale:\n",
            "   Order ID     Product  Quantity  Price  Total Sale\n",
            "0       201  Smartphone         3  25000       75000\n",
            "1       202     Earbuds        12   1500       18000\n",
            "2       203      Tablet         4  18000       72000\n",
            "3       204  Smartwatch         6   8000       48000\n",
            "4       205  Smartphone         2  25000       50000\n",
            "5       206     Earbuds        18   1500       27000\n",
            "6       207  Smartwatch         5   8000       40000\n",
            "\n",
            "Filtered Orders (Total Sale > 1000):\n",
            "   Order ID     Product  Quantity  Price  Total Sale\n",
            "0       201  Smartphone         3  25000       75000\n",
            "1       202     Earbuds        12   1500       18000\n",
            "2       203      Tablet         4  18000       72000\n",
            "3       204  Smartwatch         6   8000       48000\n",
            "4       205  Smartphone         2  25000       50000\n",
            "5       206     Earbuds        18   1500       27000\n",
            "6       207  Smartwatch         5   8000       40000\n",
            "\n",
            "Most Sold Product:\n",
            "Product\n",
            "Earbuds       30\n",
            "Smartwatch    11\n",
            "Smartphone     5\n",
            "Tablet         4\n",
            "Name: Quantity, dtype: int64\n",
            "\n",
            "DataFrame with Discount Column:\n",
            "   Order ID     Product  Quantity  Price  Total Sale  Discount\n",
            "0       201  Smartphone         3  25000       75000    7500.0\n",
            "1       202     Earbuds        12   1500       18000     900.0\n",
            "2       203      Tablet         4  18000       72000    7200.0\n",
            "3       204  Smartwatch         6   8000       48000    4800.0\n",
            "4       205  Smartphone         2  25000       50000    5000.0\n",
            "5       206     Earbuds        18   1500       27000    2700.0\n",
            "6       207  Smartwatch         5   8000       40000    4000.0\n",
            "\n",
            "Excel file 'sales_summary.xlsx' created successfully.\n"
          ]
        }
      ],
      "source": [
        "import pandas as pd\n",
        "\n",
        "# Step 1: Create sample DataFrame with changed item names\n",
        "data = {\n",
        "    'Order ID': [201, 202, 203, 204, 205, 206, 207],\n",
        "    'Product': ['Smartphone', 'Earbuds', 'Tablet', 'Smartwatch', 'Smartphone', 'Earbuds', 'Smartwatch'],\n",
        "    'Quantity': [3, 12, 4, 6, 2, 18, 5],\n",
        "    'Price': [25000, 1500, 18000, 8000, 25000, 1500, 8000]\n",
        "}\n",
        "\n",
        "df = pd.DataFrame(data)\n",
        "print(\"\\nInitial DataFrame:\")\n",
        "print(df)\n",
        "\n",
        "# Step 2: Calculate Total Sale per order\n",
        "df['Total Sale'] = df['Quantity'] * df['Price']\n",
        "print(\"\\nDataFrame with Total Sale:\")\n",
        "print(df)\n",
        "\n",
        "# Step 3: Filter orders where Total Sale > 1000\n",
        "filtered_df = df[df['Total Sale'] > 1000]\n",
        "print(\"\\nFiltered Orders (Total Sale > 1000):\")\n",
        "print(filtered_df)\n",
        "\n",
        "# Step 4: Find most sold product using groupby\n",
        "most_sold = df.groupby('Product')['Quantity'].sum().sort_values(ascending=False)\n",
        "print(\"\\nMost Sold Product:\")\n",
        "print(most_sold)\n",
        "\n",
        "# Step 5: Add Discount column based on sale amount\n",
        "# Example: 10% discount if sale > 20000 else 5%\n",
        "df['Discount'] = df['Total Sale'].apply(\n",
        "    lambda x: x * 0.10 if x > 20000 else x * 0.05\n",
        ")\n",
        "print(\"\\nDataFrame with Discount Column:\")\n",
        "print(df)\n",
        "\n",
        "# Step 6: Export the summary to Excel\n",
        "df.to_excel(\"sales_summary.xlsx\", index=False)\n",
        "\n",
        "print(\"\\nExcel file 'sales_summary.xlsx' created successfully.\")\n"
      ]
    }
  ]
}